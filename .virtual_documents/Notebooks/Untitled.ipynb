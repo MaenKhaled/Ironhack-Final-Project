import pandas as pd
import matplotlib.pyplot as plt
import seaborn as sns
import numpy as np
from sklearn.ensemble import RandomForestRegressor

df =pd.read_csv("../Data/clean_data/cleaned_loan_updated.csv")
df.info()


df.person_income_log.value_counts()


## One-Hot Encoding (Best for Nominal)
# One-hot encode nominal features
# Perform one-hot encoding
df_encoded = pd.get_dummies(
    df,
    columns=['person_home_ownership', 'loan_purpose', 'cb_person_default_on_file'],
    drop_first=True,  # Reduces multicollinearity
    dtype='int'      # Directly creates integer columns instead of boolean
)

# Verify the new columns
print("\nNew columns after encoding:")
print(df_encoded.columns.tolist())

# Check the first few rows to confirm encoding worked
print("\nSample of encoded data:")
print(df_encoded.head())


# 2. Target Variable (loan_status)
# Convert boolean to int (False=0, True=1)
df_encoded['loan_status'] = df_encoded['loan_status'].astype(int)


print(df_encoded.dtypes)
print(df_encoded['loan_status'].value_counts())  # Should show 0 (False) and 1 (True)


df_encoded.info()


## To impute the missing values of loan_interest_rate we will use 
# Predictive Modeling and Train a regression model (e.g., Random Forest) on complete cases to predict missing rates

from sklearn.model_selection import train_test_split

# 3. PERFORM THE IMPUTATION
from sklearn.ensemble import RandomForestRegressor

# Split into complete/missing cases
complete = df_encoded[df_encoded['loan_interest_rate'].notna()]
missing = df_encoded[df_encoded['loan_interest_rate'].isna()]

# Train model
rf = RandomForestRegressor(n_estimators=100, random_state=42, n_jobs=-1)
rf.fit(complete[features], complete['loan_interest_rate'])

# Impute missing values
df_encoded.loc[missing.index, 'loan_interest_rate'] = rf.predict(missing[features])

# 4. VERIFY RESULTS
print("\nMissing values after imputation:", df_encoded['loan_interest_rate'].isna().sum())
print("New value ranges:", df_encoded['loan_interest_rate'].describe())


df_encoded.info()


import seaborn as sns
import matplotlib.pyplot as plt

# Select only numerical features (including encoded binary features)
numerical_features = [
    'person_age',
    'person_income',
    'person_employment_length',
    'loan_amount',
    'loan_interest_rate',
    'loan_to_income_ratio',
    'cb_credit_history_length',
    'person_income_log',
    'loan_amount_log',
    'loan_grade_numeric',
    'person_home_ownership_other',
    'person_home_ownership_own',
    'person_home_ownership_rent',
    'loan_purpose_education',
    'loan_purpose_home-improvement',
    'loan_purpose_medical',
    'loan_purpose_personal',
    'loan_purpose_venture',
    'cb_person_default_on_file_Y',
    'loan_status'  # Target
]

# Create correlation matrix only for these features
corr_matrix = df_encoded[numerical_features].corr()

# Plot ONLY correlations with loan_status (vertical layout)
plt.figure(figsize=(8, 10))
sns.heatmap(corr_matrix[['loan_status']].sort_values('loan_status', ascending=False), 
            annot=True, fmt=".2f", cmap='coolwarm', center=0, vmin=-1, vmax=1)
plt.title("Correlation with Loan Status (Default)", pad=20)
plt.tight_layout()
plt.show()


# Select numerical features (same as before)
numerical_features = [
    'person_age', 'person_income', 'person_employment_length',
    'loan_amount', 'loan_interest_rate', 'loan_to_income_ratio',
    'cb_credit_history_length', 'person_income_log', 'loan_amount_log',
    'loan_grade_numeric',
    # One-hot encoded features:
    'person_home_ownership_rent', 'person_home_ownership_own',
    'cb_person_default_on_file_Y', 
    'loan_status'  # Target
]

# Create correlation matrix
corr_matrix = df_encoded[numerical_features].corr()

# Set up the matplotlib figure
plt.figure(figsize=(12, 10))

# Create a mask to hide upper triangle (optional)
mask = np.triu(np.ones_like(corr_matrix, dtype=bool))

# Draw the heatmap
sns.heatmap(corr_matrix, 
            mask=mask if 'mask' in locals() else None,
            annot=True, fmt=".2f", 
            cmap='coolwarm', center=0,
            vmin=-1, vmax=1,
            linewidths=0.5)
plt.title("Feature Correlation Matrix", pad=20)
plt.xticks(rotation=45, ha='right')
plt.tight_layout()
plt.show()



