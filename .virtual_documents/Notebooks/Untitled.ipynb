import pandas as pd
import matplotlib.pyplot as plt
import seaborn as sns

df =pd.read_csv("/Users/souadmouajel/Desktop/Ironhack/lab-sessions/week-8/Ironhack-Final-Project/Data/clean_data/cleaned_loan_data.csv")
df.head()


df.info()


# Target Variable Analysis (loan_status) in order to nderstand class distribution and prediction challenge.
## It is not severe imbalance so we don't need to do resampling
print(df['loan_status'].value_counts(normalize=True))
sns.countplot(x='loan_status', data=df)


# let us check the Numeric Features vs. Loan Status to identify trends in defaults by numeric features.
## It is clear that: loan_to_income_ratio person_income_log, loan_amount_log are  playing important role in the variationn between default and non-default
num_cols = ['person_age', 'person_income_log', 'loan_amount_log', 
            'loan_to_income_ratio', 'cb_credit_history_length']
for col in num_cols:
    sns.boxplot(x='loan_status', y=col, data=df)
    plt.show()


## Categorical Features vs. Loan Status in order to find high-risk categories.
cat_cols = ['person_home_ownership', 'loan_purpose', 'loan_grade', 'cb_person_default_on_file']
for col in cat_cols:
    pd.crosstab(df[col], df['loan_status'], normalize='index').plot.bar(stacked=True)
    plt.show()



