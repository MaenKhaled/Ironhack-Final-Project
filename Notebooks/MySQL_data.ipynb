{
 "cells": [
  {
   "cell_type": "code",
   "execution_count": null,
   "id": "ac0d3207-11c2-47c9-8999-ccde18c50962",
   "metadata": {},
   "outputs": [],
   "source": [
    "import pandas as pd\n",
    "import numpy as np\n",
    "import seaborn as sns\n",
    "import matplotlib.pyplot as plt\n",
    "df = pd.read_csv(\"../Data/raw-data/credit_risk_dataset.csv\")\n",
    "df.head()"
   ]
  },
  {
   "cell_type": "code",
   "execution_count": null,
   "id": "ffff00f1-704d-4ae1-8596-e6ad30eeedd1",
   "metadata": {},
   "outputs": [],
   "source": [
    "df.info()"
   ]
  },
  {
   "cell_type": "code",
   "execution_count": null,
   "id": "a6959cf4-522f-48f1-b1e2-a61a1193802d",
   "metadata": {},
   "outputs": [],
   "source": [
    "import pandas as pd\n",
    "import numpy as np\n",
    "\n",
    "# Assume your dataframe is called df\n",
    "df = df.copy()  # just in case\n",
    "\n",
    "# -----------------------\n",
    "# 1️⃣ Create customer table\n",
    "# -----------------------\n",
    "customer = pd.DataFrame()\n",
    "customer['person_id'] = range(1, len(df)+1)  # unique PK\n",
    "customer['person_age'] = df['person_age'].astype(int)\n",
    "customer['person_income'] = df['person_income'].astype(float)  # float to match MySQL type\n",
    "customer['person_home_ownership'] = df['person_home_ownership'].astype(str)\n",
    "customer['person_emp_length'] = df['person_emp_length']  # keep as float, NaNs allowed\n",
    "\n",
    "# -----------------------\n",
    "# 2️⃣ Create loans table\n",
    "# -----------------------\n",
    "loans = pd.DataFrame()\n",
    "loans['loan_id'] = range(1, len(df)+1)\n",
    "loans['person_id'] = customer['person_id']  # FK to customer\n",
    "loans['loan_amnt'] = df['loan_amnt'].astype(float)\n",
    "loans['loan_int_rate'] = df['loan_int_rate'].astype(float)  # float/decimal\n",
    "loans['loan_intent'] = df['loan_intent'].astype(str)\n",
    "loans['loan_grade'] = df['loan_grade'].astype(str)\n",
    "loans['loan_status'] = df['loan_status'].astype(bool)  # int 0/1 → boolean\n",
    "loans['loan_percent_income'] = df['loan_percent_income'].astype(float)\n",
    "\n",
    "# -----------------------\n",
    "# 3️⃣ Create credit_bureau table\n",
    "# -----------------------\n",
    "credit_bureau = pd.DataFrame()\n",
    "credit_bureau['cb_id'] = range(1, len(df)+1)\n",
    "credit_bureau['person_id'] = customer['person_id']  # FK to customer\n",
    "\n",
    "# Convert \"Y\"/\"N\" or other object to boolean\n",
    "def map_default(x):\n",
    "    if str(x).upper() == 'Y':\n",
    "        return True\n",
    "    elif str(x).upper() == 'N':\n",
    "        return False\n",
    "    else:\n",
    "        return np.nan  # handle missing values\n",
    "\n",
    "credit_bureau['cb_person_default_on_file'] = df['cb_person_default_on_file'].apply(map_default)\n",
    "credit_bureau['cb_person_cred_hist_length'] = df['cb_person_cred_hist_length'].astype(int)\n",
    "\n",
    "# -----------------------\n",
    "# 4️⃣ Export to CSV for MySQL import\n",
    "# -----------------------\n",
    "customer.to_csv('customer.csv', index=False)\n",
    "loans.to_csv('loans.csv', index=False)\n",
    "credit_bureau.to_csv('credit_bureau.csv', index=False)\n"
   ]
  },
  {
   "cell_type": "code",
   "execution_count": null,
   "id": "c6f5824b-2457-4ae0-8875-f0b71f63784a",
   "metadata": {},
   "outputs": [],
   "source": []
  }
 ],
 "metadata": {
  "kernelspec": {
   "display_name": "venv",
   "language": "python",
   "name": "venv"
  },
  "language_info": {
   "codemirror_mode": {
    "name": "ipython",
    "version": 3
   },
   "file_extension": ".py",
   "mimetype": "text/x-python",
   "name": "python",
   "nbconvert_exporter": "python",
   "pygments_lexer": "ipython3",
   "version": "3.13.3"
  }
 },
 "nbformat": 4,
 "nbformat_minor": 5
}
