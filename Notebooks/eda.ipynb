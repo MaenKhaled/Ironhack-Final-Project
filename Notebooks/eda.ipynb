{
 "cells": [
  {
   "cell_type": "code",
   "execution_count": null,
   "id": "66a61aac-bc37-4401-b13e-92f1b771401e",
   "metadata": {},
   "outputs": [],
   "source": [
    "import pandas as pd\n",
    "import matplotlib.pyplot as plt\n",
    "import seaborn as sns\n",
    "\n",
    "df =pd.read_csv(\"/Users/souadmouajel/Desktop/Ironhack/lab-sessions/week-8/Ironhack-Final-Project/Data/clean_data/cleaned_loan_data.csv\")\n",
    "df.head()"
   ]
  },
  {
   "cell_type": "code",
   "execution_count": null,
   "id": "d5e1ea6f-f126-41e9-9dff-d9fe16076a84",
   "metadata": {},
   "outputs": [],
   "source": [
    "df.info()"
   ]
  },
  {
   "cell_type": "code",
   "execution_count": null,
   "id": "1ea2bf49-4854-4fa6-a550-1eab3eb1acc6",
   "metadata": {},
   "outputs": [],
   "source": [
    "# Target Variable Analysis (loan_status) in order to understand class distribution and prediction challenge.\n",
    "## It is not severe imbalance so we don't need to do resampling\n",
    "print(df['loan_status'].value_counts(normalize=True))\n",
    "sns.countplot(x='loan_status', data=df)"
   ]
  },
  {
   "cell_type": "code",
   "execution_count": null,
   "id": "67db89b7-a171-49a6-b7a4-d6165bd23815",
   "metadata": {},
   "outputs": [],
   "source": [
    "# let us check the Numeric Features vs. Loan Status to identify trends in defaults by numeric features.\n",
    "## It is clear that: loan_to_income_ratio person_income_log, loan_amount_log are  playing important role in the variationn between default and non-default\n",
    "num_cols = ['person_age', 'person_income_log', 'loan_amount_log', \n",
    "            'loan_to_income_ratio', 'cb_credit_history_length']\n",
    "for col in num_cols:\n",
    "    sns.boxplot(x='loan_status', y=col, data=df)\n",
    "    plt.show()"
   ]
  },
  {
   "cell_type": "code",
   "execution_count": null,
   "id": "15e7d366-8b5c-42f2-9fcc-4ead9b6a318b",
   "metadata": {},
   "outputs": [],
   "source": [
    "## Categorical Features vs. Loan Status in order to find high-risk categories.\n",
    "\n",
    "import matplotlib.pyplot as plt\n",
    "import numpy as np\n",
    "\n",
    "cat_cols = ['person_home_ownership', 'loan_purpose', 'loan_grade', 'cb_person_default_on_file']\n",
    "\n",
    "for col in cat_cols:\n",
    "    # Calculate normalized crosstab\n",
    "    crosstab = pd.crosstab(df[col], df['loan_status'], normalize='index')\n",
    "    \n",
    "    # Create stacked bar plot\n",
    "    ax = crosstab.plot.bar(stacked=True, figsize=(10, 6))\n",
    "    \n",
    "    # Set legend and title\n",
    "    plt.legend(title='Loan Status', labels=['Non-Default (0)', 'Default (1)'], loc='upper right', fontsize='small')\n",
    "    plt.title(f'Loan Status Distribution by {col.replace(\"_\", \" \").title()}')\n",
    "    plt.ylabel('Percentage')\n",
    "    plt.xticks(rotation=45, ha='right')\n",
    "    \n",
    "    # Add percentage labels on each bar segment\n",
    "    for p in ax.patches:\n",
    "        width, height = p.get_width(), p.get_height()\n",
    "        x, y = p.get_xy()\n",
    "        \n",
    "        # Only label segments that are visible (height > 5%)\n",
    "        if height > 0.05:\n",
    "            ax.text(x + width/2, \n",
    "                    y + height/2, \n",
    "                    f'{height:.1%}', \n",
    "                    ha='center', \n",
    "                    va='center',\n",
    "                    fontsize=8)\n",
    "    \n",
    "    plt.tight_layout()\n",
    "    plt.show()"
   ]
  },
  {
   "cell_type": "code",
   "execution_count": null,
   "id": "bdbcdb8b-816f-4cb9-9b37-a3942c52e22d",
   "metadata": {},
   "outputs": [],
   "source": [
    "# Correlation Analysis to detect multicollinearity and key relationships.\n",
    "# Numeric features only (exclude bool/object)\n",
    "corr_matrix = df.select_dtypes(include=['float64', 'int64']).corr()\n",
    "sns.heatmap(corr_matrix, annot=True, cmap='coolwarm')"
   ]
  },
  {
   "cell_type": "code",
   "execution_count": null,
   "id": "cfb9e409-1289-4ee6-a432-2fe320467669",
   "metadata": {},
   "outputs": [],
   "source": [
    "# Time-Based Analysis (person_employment_length, cb_credit_history_length) to check if experience/credit age affects defaults.\n",
    "sns.histplot(data=df, x='cb_credit_history_length', hue='loan_status', kde=True)"
   ]
  },
  {
   "cell_type": "code",
   "execution_count": null,
   "id": "8379e653-bc35-44ab-b5ad-0ac98d4443fc",
   "metadata": {},
   "outputs": [],
   "source": [
    "# Interest Rate Patterns (loan_interest_rate) to explore how interest rates relate to defaults (despite missing values).\n",
    "sns.violinplot(x='loan_status', y='loan_interest_rate', data=df)\n",
    "print(df.groupby('loan_status')['loan_interest_rate'].mean())"
   ]
  },
  {
   "cell_type": "code",
   "execution_count": null,
   "id": "31fa130b-97b8-4846-8a72-23fd81270473",
   "metadata": {},
   "outputs": [],
   "source": []
  }
 ],
 "metadata": {
  "kernelspec": {
   "display_name": "venv",
   "language": "python",
   "name": "venv"
  },
  "language_info": {
   "codemirror_mode": {
    "name": "ipython",
    "version": 3
   },
   "file_extension": ".py",
   "mimetype": "text/x-python",
   "name": "python",
   "nbconvert_exporter": "python",
   "pygments_lexer": "ipython3",
   "version": "3.12.2"
  }
 },
 "nbformat": 4,
 "nbformat_minor": 5
}
