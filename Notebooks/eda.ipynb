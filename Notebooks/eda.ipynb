{
 "cells": [
  {
   "cell_type": "code",
   "execution_count": null,
   "id": "66a61aac-bc37-4401-b13e-92f1b771401e",
   "metadata": {},
   "outputs": [],
   "source": [
    "import pandas as pd\n",
    "import matplotlib.pyplot as plt\n",
    "import seaborn as sns\n",
    "import numpy as np\n",
    "\n",
    "df =pd.read_csv(\"../Data/clean_data/cleaned_loan_data.csv\")\n",
    "df.head()"
   ]
  },
  {
   "cell_type": "code",
   "execution_count": null,
   "id": "d5e1ea6f-f126-41e9-9dff-d9fe16076a84",
   "metadata": {},
   "outputs": [],
   "source": [
    "df.info()"
   ]
  },
  {
   "cell_type": "code",
   "execution_count": null,
   "id": "1ea2bf49-4854-4fa6-a550-1eab3eb1acc6",
   "metadata": {},
   "outputs": [],
   "source": [
    "# Target Variable Analysis (loan_status) in order to understand class distribution and prediction challenge.\n",
    "## It is not severe imbalance so we don't need to do resampling\n",
    "print(df['loan_status'].value_counts(normalize=True))\n",
    "sns.countplot(x='loan_status', data=df)"
   ]
  },
  {
   "cell_type": "code",
   "execution_count": null,
   "id": "dfa21c03-aa04-452a-a57b-a82adc7aac8a",
   "metadata": {},
   "outputs": [],
   "source": [
    "import matplotlib.pyplot as plt\n",
    "import seaborn as sns\n",
    "\n",
    "# Target Variable Analysis (loan_status)\n",
    "print(df['loan_status'].value_counts(normalize=True))\n",
    "\n",
    "# Create countplot with custom colors - handles both string and boolean values\n",
    "plt.figure(figsize=(8, 6))\n",
    "ax = sns.countplot(x='loan_status', data=df, \n",
    "                   palette={'True': 'red', 'False': 'lightgray', \n",
    "                           True: 'red', False: 'lightgray'})\n",
    "\n",
    "# Add title and labels\n",
    "plt.title('Loan Status Distribution')\n",
    "plt.xlabel('Loan Status')\n",
    "plt.ylabel('Count')\n",
    "\n",
    "# Optional: Format y-axis to display full numbers (no scientific notation)\n",
    "plt.ticklabel_format(style='plain', axis='y')\n",
    "\n",
    "# Save the plot to a file\n",
    "plt.savefig('loan_status_distribution.png', dpi=300, bbox_inches='tight')\n",
    "\n",
    "# Show the plot\n",
    "plt.show()"
   ]
  },
  {
   "cell_type": "code",
   "execution_count": null,
   "id": "67db89b7-a171-49a6-b7a4-d6165bd23815",
   "metadata": {},
   "outputs": [],
   "source": [
    "# let us check the Numeric Features vs. Loan Status to identify trends in defaults by numeric features.\n",
    "## It is clear that: loan_to_income_ratio person_income_log, loan_amount_log are  playing important role in the variationn between default and non-default\n",
    "num_cols = ['person_age', 'person_income_log', 'loan_amount_log', \n",
    "            'loan_to_income_ratio', 'cb_credit_history_length', \"person_income\",\"loan_amount\" ]\n",
    "for col in num_cols:\n",
    "    sns.boxplot(x='loan_status', y=col, data=df)\n",
    "    plt.show()"
   ]
  },
  {
   "cell_type": "code",
   "execution_count": null,
   "id": "5d8def34-71fb-4f51-87c4-36c6096be20a",
   "metadata": {},
   "outputs": [],
   "source": [
    "num_cols = ['person_age', 'person_income_log', 'loan_amount_log', \n",
    "            'loan_to_income_ratio', 'cb_credit_history_length', \"person_income\",\"loan_amount\" ]\n",
    "for col in num_cols:\n",
    "    sns.boxplot(x='loan_status', y=col, data=df)\n",
    "    plt.show()"
   ]
  },
  {
   "cell_type": "code",
   "execution_count": null,
   "id": "273baae7-cbab-461b-8c76-8933c797ada3",
   "metadata": {},
   "outputs": [],
   "source": [
    "# Ensure 'loan_status' is treated as strings (avoids palette key errors)\n",
    "# Ensure 'loan_status' is treated as strings (avoids palette key errors)\n",
    "df['loan_status'] = df['loan_status'].astype(str)\n",
    "\n",
    "# Define the color palette and order (False first, then True)\n",
    "palette = {'True': 'red', 'False': 'lightgray'}\n",
    "order = ['False', 'True']  # This will reverse the default order\n",
    "\n",
    "# Create the boxplot with specified order\n",
    "plt.figure(figsize=(8, 6))\n",
    "sns.boxplot(\n",
    "    x='loan_status', \n",
    "    y='person_income', \n",
    "    data=df, \n",
    "    palette=palette,\n",
    "    order=order  # Forces False (right) → True (left)\n",
    ")\n",
    "\n",
    "# Customize the plot\n",
    "plt.title('Personal Income Distribution by Loan Status', fontsize=14)\n",
    "plt.xlabel('Loan Status (False = non-default, True = Default)', fontsize=12)\n",
    "plt.ylabel('Income', fontsize=12)\n",
    "\n",
    "# Save the plot\n",
    "plt.savefig('person_income_by_loan_status.png', dpi=300, bbox_inches='tight')\n",
    "\n",
    "plt.show()"
   ]
  },
  {
   "cell_type": "code",
   "execution_count": null,
   "id": "5913a8e8-8a43-42b1-93b9-15cfb9d5045f",
   "metadata": {},
   "outputs": [],
   "source": [
    "# Ensure 'loan_status' is treated as strings (avoids palette key errors)\n",
    "df['loan_status'] = df['loan_status'].astype(str)\n",
    "\n",
    "# Define the color palette and order (False first, then True)\n",
    "palette = {'True': 'red', 'False': 'lightgray'}\n",
    "order = ['False', 'True']  # This will reverse the default order\n",
    "\n",
    "# Create the boxplot with specified order\n",
    "plt.figure(figsize=(8, 6))\n",
    "sns.boxplot(\n",
    "    x='loan_status', \n",
    "    y='loan_interest_rate', \n",
    "    data=df, \n",
    "    palette=palette,\n",
    "    order=order  # Forces False (right) → True (left)\n",
    ")\n",
    "\n",
    "# Customize the plot\n",
    "plt.title('Loan interest rate by Loan Status', fontsize=14)\n",
    "plt.xlabel('Loan Status (False = non-default, True = Default)', fontsize=12)\n",
    "plt.ylabel('Interest Rate', fontsize=12)\n",
    "\n",
    "# Save the plot\n",
    "plt.savefig('interest_rate_by_loan_status.png', dpi=300, bbox_inches='tight')\n",
    "\n",
    "plt.show()"
   ]
  },
  {
   "cell_type": "code",
   "execution_count": null,
   "id": "15e7d366-8b5c-42f2-9fcc-4ead9b6a318b",
   "metadata": {},
   "outputs": [],
   "source": [
    "## Categorical Features vs. Loan Status in order to find high-risk categories.\n",
    "\n",
    "cat_cols = ['person_home_ownership', 'loan_purpose', 'loan_grade', 'cb_person_default_on_file']\n",
    "\n",
    "for col in cat_cols:\n",
    "    # Calculate normalized crosstab (percentage per category)\n",
    "    crosstab = pd.crosstab(df[col], df['loan_status'], normalize='index')\n",
    "\n",
    "    # Sort by default rate (i.e., True column)\n",
    "    crosstab = crosstab.sort_values(by=True, ascending=False)\n",
    "\n",
    "    # Plot\n",
    "    ax = crosstab.plot.bar(stacked=True, figsize=(10, 6), color=['#1f77b4', '#d62728'])\n",
    "\n",
    "    # Set legend and title\n",
    "    plt.legend(title='Loan Status', labels=['Non-Default (False)', 'Default (True)'], loc='upper right', fontsize='small')\n",
    "    plt.title(f'Loan Status Distribution by {col.replace(\"_\", \" \").title()} (Sorted by Default Rate)')\n",
    "    plt.ylabel('Percentage')\n",
    "    plt.xticks(rotation=45, ha='right')\n",
    "\n",
    "    # Add percentage labels on each bar segment\n",
    "    for p in ax.patches:\n",
    "        width, height = p.get_width(), p.get_height()\n",
    "        x, y = p.get_xy()\n",
    "\n",
    "        if height > 0.05:\n",
    "            ax.text(x + width/2,\n",
    "                    y + height/2,\n",
    "                    f'{height:.1%}',\n",
    "                    ha='center',\n",
    "                    va='center',\n",
    "                    fontsize=8)\n",
    "\n",
    "    plt.tight_layout()\n",
    "    plt.show()\n"
   ]
  },
  {
   "cell_type": "code",
   "execution_count": null,
   "id": "bdbcdb8b-816f-4cb9-9b37-a3942c52e22d",
   "metadata": {},
   "outputs": [],
   "source": [
    "# Correlation Analysis to detect multicollinearity and key relationships.\n",
    "# Numeric features only (exclude bool/object)\n",
    "corr_matrix = df.select_dtypes(include=['float64', 'int64']).corr()\n",
    "sns.heatmap(corr_matrix, annot=True, cmap='coolwarm')"
   ]
  },
  {
   "cell_type": "code",
   "execution_count": null,
   "id": "cfb9e409-1289-4ee6-a432-2fe320467669",
   "metadata": {},
   "outputs": [],
   "source": [
    "# Time-Based Analysis (person_employment_length, cb_credit_history_length) to check if experience/credit age affects defaults.\n",
    "sns.histplot(data=df, x='cb_credit_history_length', hue='loan_status', kde=True)"
   ]
  },
  {
   "cell_type": "code",
   "execution_count": null,
   "id": "8379e653-bc35-44ab-b5ad-0ac98d4443fc",
   "metadata": {},
   "outputs": [],
   "source": [
    "# Interest Rate Patterns (loan_interest_rate) to explore how interest rates relate to defaults (despite missing values).\n",
    "sns.violinplot(x='loan_status', y='loan_interest_rate', data=df)\n",
    "print(df.groupby('loan_status')['loan_interest_rate'].mean())"
   ]
  },
  {
   "cell_type": "code",
   "execution_count": null,
   "id": "a78c096b-8c33-4742-812d-edf1bc696fca",
   "metadata": {},
   "outputs": [],
   "source": [
    "# the Loan grade is associated with the interest rate. \n",
    "# We will generate new column out of the loan grads by trasnfroming the grades into numbers then we checked the correlation. It is very high\n",
    "# If loan_grade is categorical, first convert it to an ordinal numeric scale\n",
    "grade_order = {\n",
    "    'A': 1,\n",
    "    'B': 2,\n",
    "    'C': 3,\n",
    "    'D': 4,\n",
    "    'E_or_lower': 6  # You can also use 5.5 or 7 depending on how you interpret it\n",
    "}\n",
    "\n",
    "df['loan_grade_numeric'] = df['loan_grade'].map(grade_order) \n",
    "\n",
    "# Plot correlation\n",
    "sns.heatmap(df[['loan_grade_numeric', 'loan_interest_rate']].corr(), annot=True, cmap='coolwarm')\n",
    "plt.title('Correlation between Loan Grade and Interest Rate')\n",
    "plt.show()\n"
   ]
  },
  {
   "cell_type": "code",
   "execution_count": null,
   "id": "e437bec8-71f7-4929-aea4-d9781abc2005",
   "metadata": {},
   "outputs": [],
   "source": [
    "### Exploratory Data Analysis (Univarite and bivariate analysis) (EDA) Summary\n",
    "\n",
    "## Target Variable: loan_status\n",
    "# The dataset shows a class imbalance: approximately 22% of individuals are in default (True), while around 78% are non-default (False).\n",
    "\n",
    "## Numerical Feature Analysis\n",
    "\n",
    "# Age Distribution:\n",
    "  # There is no significant difference between the mean and median of person_age for defaulted and non-defaulted individuals.\n",
    "\n",
    "# Credit History Length:\n",
    "  # The cd_credit_history_length shows no difference in mean or median between the defaulted and non-defaulted groups.\n",
    "\n",
    "# Income (Log-transformed):\n",
    "  # The mean and median of person_income_log are higher for non-defaulted individuals compared to those who defaulted.\n",
    "\n",
    "# Loan Amount (Log-transformed):\n",
    "  # The median of loan_amount_log is lower for non-defaulted individuals than for those in default.\n",
    "\n",
    "# Loan-to-Income Ratio:\n",
    "  # Both the mean and median of the loan_to_income_ratio are lower among non-defaulted individuals, \n",
    "  # indicating they tend to borrow more conservatively relative to their income.\n",
    "\n",
    "# Interest Rate:\n",
    "  # Higher interest rates are generally associated with a higher likelihood of default.\n",
    "\n",
    "## Categorical Feature Analysis\n",
    "\n",
    "# Home Ownership (person_home_ownership):\n",
    "  # Default rates are highest among individuals who rent, followed by those marked as other, mortgage, and own—the latter showing the lowest default rate.\n",
    "\n",
    "# Loan Purpose (loan_purpose):\n",
    "  # The highest proportion of defaults occurs in loans for debt consolidation, followed by medical, home improvement,\n",
    "  # personal, education, and finally venture, which has the lowest default rate.\n",
    "\n",
    "# Loan Grade (loan_grade):\n",
    "  # Defaults are more frequent in lower-grade loans, especially in the E_or_lower category, followed by D, C, B, and A, respectively.\n",
    "\n",
    "# Credit Default History (cb_person_default_on_file):\n",
    "  # Individuals with a history of default (Y) are more likely to default again compared to those without such a history (N).\n",
    "\n",
    "# the Loan grade is strongley correlated with the interest rate."
   ]
  },
  {
   "cell_type": "code",
   "execution_count": null,
   "id": "4fd75e3a-9f6c-406f-a218-ee0ab0e169ca",
   "metadata": {},
   "outputs": [],
   "source": [
    "### Exploratory Data Analysis (multivariate analysis)\n",
    "sns.boxplot(data=df, x='loan_grade', y='loan_to_income_ratio', hue='loan_status')\n",
    "plt.title(\"Interest Rate by Loan Grade (Stratified by Default Status)\")"
   ]
  },
  {
   "cell_type": "code",
   "execution_count": null,
   "id": "673fa4f7-5406-41d2-ac30-647fc03a216d",
   "metadata": {},
   "outputs": [],
   "source": [
    "# 2. Segment-Specific Analysis since the EDA hints that certain subgroups (renters, debt-consolidation borrowers) are riskier. Dive deeper.\n",
    "df_renters = df[df['person_home_ownership'] == 'rent']\n",
    "sns.scatterplot(data=df_renters, x='person_income_log', y='loan_amount_log', hue='loan_status')"
   ]
  },
  {
   "cell_type": "code",
   "execution_count": null,
   "id": "641a70dd-555e-4219-9999-60f2e54c3b0e",
   "metadata": {},
   "outputs": [],
   "source": [
    "## Temporal Patterns since we  noted person_age and cb_credit_history_length are correlated. Explore time-based risk.\n",
    "## Approach:\n",
    "## Bin cb_credit_history_length into groups (e.g., \"<5 years\", \"5–10 years\", \"10+ years\") and check default rates per bin.\n",
    "df['credit_history_bins'] = pd.cut(df['cb_credit_history_length'], bins=[0, 5, 10, 30])\n",
    "pd.crosstab(df['credit_history_bins'], df['loan_status'], normalize='index')"
   ]
  },
  {
   "cell_type": "code",
   "execution_count": null,
   "id": "67203e03-a92a-46ce-a882-9fd5f33020e0",
   "metadata": {},
   "outputs": [],
   "source": [
    "\n",
    "df.credit_history_bins.value_counts()"
   ]
  },
  {
   "cell_type": "code",
   "execution_count": null,
   "id": "58a3d509-6e2a-4129-a59c-28d1fcbed4a2",
   "metadata": {},
   "outputs": [],
   "source": [
    "## Key Questions to Answer\n",
    "# For high-risk groups (e.g., renters, debt-consolidation):\n",
    "\n",
    "# What’s their typical loan_grade and interest_rate?\n",
    "\n",
    "# Do they have other red flags (e.g., prior defaults)?\n",
    "\n",
    "# For loan_to_income_ratio:\n",
    "\n",
    "# Is there a threshold where default risk spikes (e.g., >30%)?\n",
    "\n",
    "# For cb_person_default_on_file:\n",
    "\n",
    "# How much does a prior default increase the odds of a new default?"
   ]
  },
  {
   "cell_type": "code",
   "execution_count": null,
   "id": "3baf7ff1-2142-4dcd-a73c-cfd64bea411b",
   "metadata": {},
   "outputs": [],
   "source": [
    "pd.crosstab(df['person_employment_length'], df['loan_status'], normalize='index')"
   ]
  },
  {
   "cell_type": "code",
   "execution_count": null,
   "id": "047c3b5c-e2c7-4ce1-af4f-e708a802f9ba",
   "metadata": {},
   "outputs": [],
   "source": [
    "pd.crosstab(df['person_home_ownership'], df['loan_status'], normalize='index')"
   ]
  },
  {
   "cell_type": "code",
   "execution_count": null,
   "id": "2fcc6e12-8f3e-4149-90d1-346f5862aac3",
   "metadata": {},
   "outputs": [],
   "source": [
    "df.info()"
   ]
  },
  {
   "cell_type": "code",
   "execution_count": null,
   "id": "34f4379c-eca5-4c30-8e63-894c88b4ce5d",
   "metadata": {},
   "outputs": [],
   "source": [
    "## Save and export the cleaned data updated in a csv file:\n",
    "df.to_csv('/Users/souadmouajel/Desktop/Ironhack/lab-sessions/week-8/Ironhack-Final-Project/Data/clean_data/cleaned_loan_updated.csv', index=False)"
   ]
  },
  {
   "cell_type": "code",
   "execution_count": null,
   "id": "19465330-f84e-4f23-8c7b-73301848b221",
   "metadata": {},
   "outputs": [],
   "source": [
    "import os\n",
    "print(os.getcwd())"
   ]
  },
  {
   "cell_type": "code",
   "execution_count": null,
   "id": "b55236c4-1326-4b7f-9e5f-bf9f88cdaadb",
   "metadata": {},
   "outputs": [],
   "source": []
  }
 ],
 "metadata": {
  "kernelspec": {
   "display_name": "venv",
   "language": "python",
   "name": "venv"
  },
  "language_info": {
   "codemirror_mode": {
    "name": "ipython",
    "version": 3
   },
   "file_extension": ".py",
   "mimetype": "text/x-python",
   "name": "python",
   "nbconvert_exporter": "python",
   "pygments_lexer": "ipython3",
   "version": "3.13.3"
  }
 },
 "nbformat": 4,
 "nbformat_minor": 5
}
