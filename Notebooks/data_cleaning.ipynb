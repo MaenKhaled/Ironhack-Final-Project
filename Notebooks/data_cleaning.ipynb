{
 "cells": [
  {
   "cell_type": "code",
   "execution_count": null,
   "id": "2c3b320f-9dc2-4091-bf56-37cd40a037d5",
   "metadata": {},
   "outputs": [],
   "source": [
    "import pandas as pd\n",
    "import numpy as np\n",
    "import seaborn as sns\n",
    "import matplotlib.pyplot as plt\n",
    "df = pd.read_csv(\"../Data/raw-data/credit_risk_dataset.csv\")\n",
    "df.head()"
   ]
  },
  {
   "cell_type": "code",
   "execution_count": null,
   "id": "d5d33386-246a-44b6-bcb9-d5930225028b",
   "metadata": {},
   "outputs": [],
   "source": [
    "df.info()"
   ]
  },
  {
   "cell_type": "code",
   "execution_count": null,
   "id": "ce03d8c9-5d6c-4938-ae3a-b52824e1d4c6",
   "metadata": {},
   "outputs": [],
   "source": [
    "df.duplicated().sum()"
   ]
  },
  {
   "cell_type": "code",
   "execution_count": null,
   "id": "7195dd13-7b84-4c3e-b52d-4b37a6c5e7d7",
   "metadata": {},
   "outputs": [],
   "source": [
    "# Find all duplicate rows\n",
    "duplicates = df[df.duplicated()]\n",
    "\n",
    "# Count of duplicates\n",
    "print(f\"Number of duplicate rows: {duplicates.shape[0]}\")\n",
    "\n",
    "# View duplicates\n",
    "print(duplicates)\n"
   ]
  },
  {
   "cell_type": "code",
   "execution_count": null,
   "id": "6f37acef-b8a9-41ed-a4c5-5af11f5db733",
   "metadata": {},
   "outputs": [],
   "source": [
    "duplicates.head(40)"
   ]
  },
  {
   "cell_type": "code",
   "execution_count": null,
   "id": "0bc46d7f-09b9-4ec3-9459-0a9f2c6d3456",
   "metadata": {},
   "outputs": [],
   "source": [
    "# the Percentage of duplicates are too samll it is less than 0.5% of our dataset.\n",
    "# Although there is no column for customer_id to be sure wheather they are duplicates or not, the will be dropped.\n",
    "df = df.drop_duplicates()\n",
    "df.info()"
   ]
  },
  {
   "cell_type": "code",
   "execution_count": null,
   "id": "1e51184f-2e5a-4807-8b64-15eb402e426d",
   "metadata": {},
   "outputs": [],
   "source": [
    "df.columns"
   ]
  },
  {
   "cell_type": "code",
   "execution_count": null,
   "id": "9943cd4a-ac87-41ac-b40c-30eb1ccebf8b",
   "metadata": {},
   "outputs": [],
   "source": [
    "## Make the columns labels clearer:\n",
    "df.rename(columns={\n",
    "    'person_emp_length': 'person_employment_length',\n",
    "    'loan_intent': 'loan_purpose',\n",
    "    'loan_amnt': 'loan_amount',\n",
    "    'loan_int_rate': 'loan_interest_rate',\n",
    "    'loan_percent_income': 'loan_to_income_ratio',\n",
    "    'cb_person_cred_hist_length': 'cb_credit_history_length'\n",
    "}, inplace=True)\n"
   ]
  },
  {
   "cell_type": "code",
   "execution_count": null,
   "id": "4b5392fd-5aab-4a21-8c6e-611c6ae7deaa",
   "metadata": {},
   "outputs": [],
   "source": [
    "df.info()"
   ]
  },
  {
   "cell_type": "code",
   "execution_count": null,
   "id": "3a34a6cb-5cbd-45c4-8181-b4637fc9a715",
   "metadata": {},
   "outputs": [],
   "source": [
    "# Function of Counting missing values, defining where they exist and in which column, its type, their percentage \n",
    "def missing_summary(df):\n",
    "    summary = df.isnull().sum().to_frame(name='missing_count')\n",
    "    summary['missing_pct'] = (summary['missing_count'] / len(df)) * 100\n",
    "    summary['missing_pct'] = summary['missing_pct'].apply(lambda x: f\"{x:.2f}%\")\n",
    "    summary['dtype'] = df.dtypes\n",
    "    summary['type'] = summary['dtype'].apply(lambda x: 'numerical' if pd.api.types.is_numeric_dtype(x) else 'categorical')\n",
    "    summary = summary[summary['missing_count'] > 0]\n",
    "    return summary.sort_values(by='missing_count', ascending=False)\n",
    "missing_summary(df)"
   ]
  },
  {
   "cell_type": "code",
   "execution_count": null,
   "id": "d0647236-fc7e-4072-91ec-3982bfe153be",
   "metadata": {},
   "outputs": [],
   "source": [
    "## The percentage of missing values in column loan_interest_rat is high and it is a sensitve column. \n",
    "## That is why we will anylze it deeper in order to handel them:\n",
    "## Step 1: Analyze Missingness Pattern\n",
    "# 1.1 Determine Missingness Mechanism\n",
    "# Check if missingness is random or systematic\n",
    "missing_mask = df['loan_interest_rate'].isnull()\n",
    "\n",
    "# Compare distributions of other variables between missing and non-missing groups\n",
    "for col in ['loan_grade', 'loan_status', 'person_income', 'loan_amount']:\n",
    "    print(f\"\\nComparison for {col}:\")\n",
    "    print(pd.concat([\n",
    "        df.loc[~missing_mask, col].describe().rename('Not Missing'),\n",
    "        df.loc[missing_mask, col].describe().rename('Missing')\n",
    "    ], axis=1))"
   ]
  },
  {
   "cell_type": "code",
   "execution_count": null,
   "id": "7f982c6e-dda4-4710-89a3-6028093d3b3b",
   "metadata": {},
   "outputs": [],
   "source": [
    "df.loan_grade.unique()"
   ]
  },
  {
   "cell_type": "code",
   "execution_count": null,
   "id": "042b1c31-271b-4b3a-b63f-7acffd211975",
   "metadata": {},
   "outputs": [],
   "source": [
    "## 1.2 Visualize Relationships\n",
    "# Create a missing indicator plot\n",
    "plt.figure(figsize=(10,6))\n",
    "sns.heatmap(df.isnull(), cbar=False, cmap='viridis')\n",
    "plt.title('Missing Values Pattern')\n",
    "plt.show()\n",
    "\n",
    "# Check relationship with loan grade\n",
    "plt.figure(figsize=(10,6))\n",
    "sns.boxplot(data=df, x='loan_grade', y='loan_interest_rate', hue=missing_mask)\n",
    "plt.title('Interest Rate Distribution by Grade (Missing vs Present)')\n",
    "plt.show()"
   ]
  },
  {
   "cell_type": "code",
   "execution_count": null,
   "id": "5937d56e-7354-4215-9bca-d054d7f242e3",
   "metadata": {},
   "outputs": [],
   "source": [
    "# Calculate missing rate by grade\n",
    "grade_missing_rates = df.groupby('loan_grade')['loan_interest_rate'].apply(\n",
    "    lambda x: x.isnull().mean()\n",
    ").sort_values(ascending=False)\n",
    "\n",
    "print(\"Percentage of missing interest rates by grade:\")\n",
    "print(grade_missing_rates)"
   ]
  },
  {
   "cell_type": "code",
   "execution_count": null,
   "id": "a9259b06-fe30-4f41-be95-ab9b8c8ddac7",
   "metadata": {},
   "outputs": [],
   "source": [
    "df.info()"
   ]
  },
  {
   "cell_type": "code",
   "execution_count": null,
   "id": "612fd85e-a19f-4588-99d7-84794f17e9d8",
   "metadata": {},
   "outputs": [],
   "source": [
    "df.cb_person_default_on_file.unique()"
   ]
  },
  {
   "cell_type": "code",
   "execution_count": null,
   "id": "4e826384-b9e2-49aa-9fbd-03eb3481a571",
   "metadata": {},
   "outputs": [],
   "source": [
    "# Convert selected columns to lowercase\n",
    "columns_to_fix = ['person_home_ownership', 'loan_purpose']\n",
    "\n",
    "for col in columns_to_fix:\n",
    "    df[col] = df[col].str.lower()\n",
    "\n",
    "# Print result\n",
    "print(df[columns_to_fix].head())"
   ]
  },
  {
   "cell_type": "code",
   "execution_count": null,
   "id": "fdd76522-6871-4605-8a2c-70137104e064",
   "metadata": {},
   "outputs": [],
   "source": [
    "df.loan_purpose.unique()"
   ]
  },
  {
   "cell_type": "code",
   "execution_count": null,
   "id": "cf869d34-b199-4471-8bd2-589beaeaef54",
   "metadata": {},
   "outputs": [],
   "source": [
    "# Mapping of incorrect to correct values\n",
    "purpose_fixes = {\n",
    "    'homeimprovement': 'home-improvement',\n",
    "    'debtconsolidation': 'debt-consolidation'\n",
    "}\n",
    "# Clean the 'loan_purpose' column\n",
    "df['loan_purpose'] = df['loan_purpose'].str.lower().replace(purpose_fixes)\n",
    "\n",
    "# (Optional) Print unique values to verify\n",
    "print(df['loan_purpose'].unique())"
   ]
  },
  {
   "cell_type": "code",
   "execution_count": null,
   "id": "7cb05977-3d2f-4002-84b8-167bd59978f6",
   "metadata": {},
   "outputs": [],
   "source": [
    "df.person_home_ownership.unique()"
   ]
  },
  {
   "cell_type": "code",
   "execution_count": null,
   "id": "a3e56a8b-0351-4d0f-858a-f82855a0dcd6",
   "metadata": {},
   "outputs": [],
   "source": [
    "df.person_employment_length.describe()"
   ]
  },
  {
   "cell_type": "code",
   "execution_count": null,
   "id": "53abe2fd-3d40-4cfb-9d1e-1f5bbf586e2e",
   "metadata": {},
   "outputs": [],
   "source": [
    "## Replace the mising values in column: person_employment_length with the mode since it has outlires\n",
    "# Calculate the median (excluding NaN)\n",
    "median_value = df['person_employment_length'].median()\n",
    "\n",
    "# Fill missing values with median\n",
    "df['person_employment_length'].fillna(median_value, inplace=True)\n",
    "\n",
    "# (Optional) Check result\n",
    "print(df['person_employment_length'].isnull().sum())  # Should be 0\n"
   ]
  },
  {
   "cell_type": "code",
   "execution_count": null,
   "id": "8195bb90-40f2-4dad-aa7b-443e09393210",
   "metadata": {},
   "outputs": [],
   "source": [
    "df.info()"
   ]
  },
  {
   "cell_type": "code",
   "execution_count": null,
   "id": "5ca93800-4188-4aad-aaf2-aac589daca44",
   "metadata": {},
   "outputs": [],
   "source": [
    "## Check the outliers in the numercial columns:\n",
    "# Select numeric columns only\n",
    "numeric_cols = df.select_dtypes(include='number').columns\n",
    "\n",
    "# Loop through numeric columns and detect outliers\n",
    "for col in numeric_cols:\n",
    "    Q1 = df[col].quantile(0.25)\n",
    "    Q3 = df[col].quantile(0.75)\n",
    "    IQR = Q3 - Q1\n",
    "    lower_bound = Q1 - 1.5 * IQR\n",
    "    upper_bound = Q3 + 1.5 * IQR\n",
    "\n",
    "    outliers = df[(df[col] < lower_bound) | (df[col] > upper_bound)]\n",
    "    print(f\"{col}: {len(outliers)} outliers\")"
   ]
  },
  {
   "cell_type": "code",
   "execution_count": null,
   "id": "9984a5d8-169c-4503-93d6-3d17476963bc",
   "metadata": {},
   "outputs": [],
   "source": [
    "df.loan_status.unique()"
   ]
  },
  {
   "cell_type": "code",
   "execution_count": null,
   "id": "c8347f0d-9b68-4b9d-9136-33d1edb89cce",
   "metadata": {},
   "outputs": [],
   "source": [
    "# Detecting outliers by boxplott\n",
    "# Filter only numerical columns with more than 2 unique values (to exclude binary like loan_status)\n",
    "numeric_cols = [col for col in df.select_dtypes(include='number').columns\n",
    "                if df[col].nunique() > 2]\n",
    "\n",
    "# Set up plot size\n",
    "plt.figure(figsize=(15, len(numeric_cols) * 4))\n",
    "\n",
    "# Plot each column as a separate subplot\n",
    "for i, col in enumerate(numeric_cols, 1):\n",
    "    plt.subplot(len(numeric_cols), 1, i)\n",
    "    sns.boxplot(x=df[col])\n",
    "    plt.title(f'Boxplot of {col}')\n",
    "    plt.xlabel(col)\n",
    "\n",
    "plt.tight_layout()\n",
    "plt.show()\n"
   ]
  },
  {
   "cell_type": "code",
   "execution_count": null,
   "id": "9516d011-46f8-4176-9dae-22c5cb37e516",
   "metadata": {},
   "outputs": [],
   "source": [
    "# Handeling the outliers:\n",
    "# Replace extreme values with percentile thresholds (e.g., 1st and 99th):\n",
    "\n",
    "def cap_outliers(df, col, lower_q=0.01, upper_q=0.99):\n",
    "    lower = df[col].quantile(lower_q)\n",
    "    upper = df[col].quantile(upper_q)\n",
    "    df[col] = df[col].clip(lower, upper)\n",
    "\n",
    "for col in ['person_age', 'person_income', 'person_employment_length',\n",
    "            'loan_amount', 'loan_to_income_ratio', 'cb_credit_history_length']:\n",
    "    cap_outliers(df, col)"
   ]
  },
  {
   "cell_type": "code",
   "execution_count": null,
   "id": "2c75c78b-0434-4a8b-ba3f-1764cba8a67e",
   "metadata": {},
   "outputs": [],
   "source": [
    "# Plotting outliers after capping them. Binary values column will not be included\n",
    "numeric_cols = [col for col in df.select_dtypes(include='number').columns\n",
    "                if df[col].nunique() > 2]\n",
    "\n",
    "# Set up plot size\n",
    "plt.figure(figsize=(15, len(numeric_cols) * 4))\n",
    "\n",
    "# Plot each column as a separate subplot\n",
    "for i, col in enumerate(numeric_cols, 1):\n",
    "    plt.subplot(len(numeric_cols), 1, i)\n",
    "    sns.boxplot(x=df[col])\n",
    "    plt.title(f'Boxplot of {col}')\n",
    "    plt.xlabel(col)\n",
    "\n",
    "plt.tight_layout()\n",
    "plt.show()"
   ]
  },
  {
   "cell_type": "code",
   "execution_count": null,
   "id": "1822d639-ce1b-4110-bd2b-9db413a0f402",
   "metadata": {},
   "outputs": [],
   "source": [
    "# There are two columns still suffer of a lote of outliers after capping: person_income and loan_amount. \n",
    "# Log trasnformation will be implemented on them\n",
    "df['person_income_log'] = np.log1p(df['person_income'])"
   ]
  },
  {
   "cell_type": "code",
   "execution_count": null,
   "id": "8bc6d66b-f192-40c4-81fe-e2946597ca8d",
   "metadata": {},
   "outputs": [],
   "source": [
    "plt.figure(figsize=(8, 5))\n",
    "sns.histplot(df['person_income_log'], kde=True, bins=30)\n",
    "plt.title('Histogram of Log-Transformed Person Income')\n",
    "plt.xlabel('Log(Person Income)')\n",
    "plt.ylabel('Count')\n",
    "plt.show()"
   ]
  },
  {
   "cell_type": "code",
   "execution_count": null,
   "id": "c209d3cc-e6a5-40b8-9a42-b7b894188338",
   "metadata": {},
   "outputs": [],
   "source": [
    "plt.figure(figsize=(8, 2))\n",
    "sns.boxplot(x=df['person_income_log'])\n",
    "plt.title('Boxplot of Log-Transformed Person Income')\n",
    "plt.xlabel('Log(Person Income)')\n",
    "plt.show()"
   ]
  },
  {
   "cell_type": "code",
   "execution_count": null,
   "id": "ced52634-2754-4fb1-b774-d986280079fa",
   "metadata": {},
   "outputs": [],
   "source": [
    "df['loan_amount_log'] = np.log1p(df['loan_amount'])\n",
    "plt.figure(figsize=(8, 5))\n",
    "sns.histplot(df['loan_amount_log'], kde=True, bins=30)\n",
    "plt.title('Histogram of Log-Transformed Loan Amount')\n",
    "plt.xlabel('Log(Loan Amount)')\n",
    "plt.ylabel('Count')\n",
    "plt.show()"
   ]
  },
  {
   "cell_type": "code",
   "execution_count": null,
   "id": "704b7388-cdfa-44cb-9ac8-65def2bfeee5",
   "metadata": {},
   "outputs": [],
   "source": [
    "plt.figure(figsize=(8, 2))\n",
    "sns.boxplot(x=df['loan_amount_log'])\n",
    "plt.title('Boxplot of Log-Transformed Loan Amount')\n",
    "plt.xlabel('Log(Loan Amount)')\n",
    "plt.show()"
   ]
  },
  {
   "cell_type": "code",
   "execution_count": null,
   "id": "9b311bba-3d08-4571-85e0-6bbf89c404f3",
   "metadata": {},
   "outputs": [],
   "source": [
    "plt.figure(figsize=(8, 5))\n",
    "sns.histplot(df['loan_amount'], kde=True, bins=30)\n",
    "plt.title('Histogram of Log-Transformed Loan Amount')\n",
    "plt.xlabel('Log(Loan Amount)')\n",
    "plt.ylabel('Count')\n",
    "plt.show()"
   ]
  },
  {
   "cell_type": "code",
   "execution_count": null,
   "id": "1e42783b-baf2-4608-a503-d603d0683e6f",
   "metadata": {},
   "outputs": [],
   "source": [
    "plt.figure(figsize=(12, 5))\n",
    "# Before\n",
    "plt.subplot(1, 2, 1)\n",
    "sns.histplot(df['loan_amount'], kde=True, bins=30)\n",
    "plt.title('Original Loan Amount')\n",
    "\n",
    "# After\n",
    "plt.subplot(1, 2, 2)\n",
    "sns.histplot(df['loan_amount_log'], kde=True, bins=30)\n",
    "plt.title('Log-Transformed Loan Amount')\n",
    "\n",
    "plt.tight_layout()\n",
    "plt.show()\n"
   ]
  },
  {
   "cell_type": "code",
   "execution_count": null,
   "id": "14713ec1-d12f-41d4-9850-32898f32533a",
   "metadata": {},
   "outputs": [],
   "source": [
    "df.info()"
   ]
  },
  {
   "cell_type": "code",
   "execution_count": null,
   "id": "9bda97de-c7e3-4bcc-b753-9e0cc378373d",
   "metadata": {},
   "outputs": [],
   "source": [
    "df.loan_grade.value_counts()"
   ]
  },
  {
   "cell_type": "code",
   "execution_count": null,
   "id": "c1089b5c-2b87-492a-bb90-83e1b6b47cd7",
   "metadata": {},
   "outputs": [],
   "source": [
    "## Regard the categorical columns. All of them looks fine except of loan_grade where there are very small categories.\n",
    "## The small categories E, F, G will be groubed together in one new category: E_or_lower:\n",
    "df['loan_grade'] = df['loan_grade'].replace({'E': 'E_or_lower', 'F': 'E_or_lower', 'G': 'E_or_lower'})\n",
    "df.loan_grade.value_counts()"
   ]
  },
  {
   "cell_type": "code",
   "execution_count": null,
   "id": "afee5f52-2543-4254-9e01-ba75606da452",
   "metadata": {},
   "outputs": [],
   "source": [
    "df.info()"
   ]
  },
  {
   "cell_type": "code",
   "execution_count": null,
   "id": "1459114f-1bb8-4f26-b23a-431d75b3b613",
   "metadata": {},
   "outputs": [],
   "source": [
    "# Data type valedation and change\n",
    "# Cast object columns to category\n",
    "categorical_cols = [\n",
    "    'person_home_ownership', \n",
    "    'loan_purpose', \n",
    "    'loan_grade', \n",
    "    'cb_person_default_on_file'\n",
    "]\n",
    "df[categorical_cols] = df[categorical_cols].astype('category')\n",
    "\n",
    "# convert binary column to bool or category\n",
    "df['loan_status'] = df['loan_status'].astype('bool')  \n"
   ]
  },
  {
   "cell_type": "code",
   "execution_count": null,
   "id": "ccf08500-07ac-44fb-830c-82617c84a53a",
   "metadata": {},
   "outputs": [],
   "source": [
    "df.info()"
   ]
  },
  {
   "cell_type": "code",
   "execution_count": null,
   "id": "6e89b868-e092-4400-ac46-1248875d00ac",
   "metadata": {},
   "outputs": [],
   "source": [
    "df.cb_person_default_on_file.unique()"
   ]
  },
  {
   "cell_type": "code",
   "execution_count": null,
   "id": "40e68adc-faf1-4abb-9da9-7a6614974d4b",
   "metadata": {},
   "outputs": [],
   "source": [
    "## Save and export the cleaned data in a csv file:\n",
    "df.to_csv('/Users/souadmouajel/Desktop/Ironhack/lab-sessions/week-8/Ironhack-Final-Project/Data/clean_data/cleaned_loan_data.csv', index=False)\n"
   ]
  },
  {
   "cell_type": "code",
   "execution_count": null,
   "id": "4d8583f6-cdd6-4a00-bdbf-e316f18d4f55",
   "metadata": {},
   "outputs": [],
   "source": [
    "df['loan_status'].unique()"
   ]
  },
  {
   "cell_type": "code",
   "execution_count": null,
   "id": "6bef67b2-99b5-4d74-9a6b-314adcabd861",
   "metadata": {},
   "outputs": [],
   "source": [
    "df.loan_int_rate.describe()"
   ]
  },
  {
   "cell_type": "code",
   "execution_count": null,
   "id": "2f191053-7351-4ccd-afef-b916fe98838e",
   "metadata": {},
   "outputs": [],
   "source": []
  }
 ],
 "metadata": {
  "kernelspec": {
   "display_name": "venv",
   "language": "python",
   "name": "venv"
  },
  "language_info": {
   "codemirror_mode": {
    "name": "ipython",
    "version": 3
   },
   "file_extension": ".py",
   "mimetype": "text/x-python",
   "name": "python",
   "nbconvert_exporter": "python",
   "pygments_lexer": "ipython3",
   "version": "3.13.3"
  }
 },
 "nbformat": 4,
 "nbformat_minor": 5
}
